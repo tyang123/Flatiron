{
 "cells": [
  {
   "cell_type": "markdown",
   "metadata": {},
   "source": [
    "# Set Introduction\n",
    "\n",
    "\n",
    "\n",
    "\n",
    "\n",
    "\n",
    "\n",
    "\n",
    "\n",
    "\n",
    "\n",
    "\n"
   ]
  },
  {
   "cell_type": "markdown",
   "metadata": {},
   "source": [
    "## Overview\n"
   ]
  },
  {
   "cell_type": "markdown",
   "metadata": {},
   "source": [
    "In the previous lesson we learned about data structures in Python:\n",
    "\n",
    "<ul>\n",
    "    <li><b>List:</b> Sequence of ordered elements with values that can be changed \n",
    "    <li><b>Dictionaries:</b> Collection of unordered mapping of unique keys to data values\n",
    "</ul>\n",
    "Lists help us store sorted values, such as a roster of Hogwarts students. Dictionaries store values based on a given key. In the data cleaning process, sometimes we encounter datasets with millions of rows or duplicate values. Using a list or dictionary on such a large file would either take too long or generate complicated code.\n",
    "\n",
    "<b>Sets</b> are a data structure in Python covered in this lesson. Sets are unordered collections of unique items, such as a collection of first names. Sets only contain elements with no duplicates. Sets are helpful with managing repeat customer data in telephone logs or purchase histories. We will learn how to use set operations to compare two lists of customers."
   ]
  },
  {
   "cell_type": "markdown",
   "metadata": {},
   "source": [
    "## Learning Objectives\n",
    "  "
   ]
  },
  {
   "cell_type": "markdown",
   "metadata": {},
   "source": [
    "  <ol>\n",
    "    <li>Describe a common problem\n",
    "    <li>Define sets in Python\n",
    "    <li>Understand why sets are used\n",
    "    <li>Create a set\n",
    "    <li>Set Operations: In, Not In, Union, Intersection, For Set\n",
    "    <li>Sets compared to other data structures"
   ]
  },
  {
   "cell_type": "markdown",
   "metadata": {},
   "source": [
    "## A Common Problem\n"
   ]
  },
  {
   "cell_type": "markdown",
   "metadata": {},
   "source": [
    "Let’s revisit Molly’s cupcake business from “Visualizing Data with Graphs.” Molly's cupcake sales have exploded! She decides to open a second store and hires Bob as the manager. Molly and Bob write down the name of each customer who purchases a cupcake:"
   ]
  },
  {
   "cell_type": "markdown",
   "metadata": {},
   "source": [
    "| MollyStore |    | BobStore |  \n",
    "|------|          |------|          \n",
    "|   Suzie  ||   Fred  |\n",
    "|   Edgar  ||   Suzie  |\n",
    "|   Steven  ||   Steven  |\n",
    "|   Natalie  ||   Joseph  |\n",
    "|   Natalie  ||   Catherine  |\n",
    "|   Suzie  ||   Steven  |\n",
    "|            | |   Steven  |\n"
   ]
  },
  {
   "cell_type": "markdown",
   "metadata": {},
   "source": [
    "Molly wants to analyze which customers shop at her store vs. Bob's store. However, she notices duplicate entries (e.g., Natalie frequently visits Molly's cupcake store but has not been to Bob's store). Molly wants to determine:\n",
    "<ul><li>How to create a list of customers and eliminate repeat entries\n",
    "    <li>Whether a person has ever shopped at her store \n",
    "    <li>Which customers shop at both stores\n",
    "    <li>How to create a roster of all customers from either store\n",
    "</ul>\n",
    "    \n",
    "    \n",
    "Sets are designed to simplify datasets by removing duplicate names. We will learn what is a set, why to use a set, and how to use set operations to help generate Molly's analysis.\n"
   ]
  },
  {
   "cell_type": "markdown",
   "metadata": {},
   "source": [
    "## What is a Set?"
   ]
  },
  {
   "cell_type": "markdown",
   "metadata": {},
   "source": [
    "A Set is an unordered collection of <b>unique</b> data elements. Sets do not contain any duplicate elements. Sets can quickly generate a list of customer names from a log of transactions or telephone calls. This is extremely helpful for later lessons when we use SQL to merge datasets on customer account information.\n",
    " \n",
    "In Python, we can add or subtract elements from a set (sets are \"mutable,\" which means changeable). Sets items do not follow a specific order or index. Set elements cannot be accessed or changed."
   ]
  },
  {
   "cell_type": "markdown",
   "metadata": {},
   "source": [
    "## Why use Sets?"
   ]
  },
  {
   "cell_type": "markdown",
   "metadata": {},
   "source": [
    "Molly's example illustrates three reasons to use sets instead of lists or dictionaries:\n",
    "\n",
    "<ol><li><b>Eliminate Duplicates:</b> If the same customer name appears multiple times in a set, duplicates are deleted\n",
    "    <li><b>Membership Testing:</b> The IN statement determines whether a name is in Molly's customer set \n",
    "    <li><b>Set Operations:</b> Set operations help calculate whether a customer has shopped at both stores. The union operation also generates a list of all customers from either store\n",
    "                \n",
    "       "
   ]
  },
  {
   "cell_type": "markdown",
   "metadata": {},
   "source": [
    "## Creating a Set"
   ]
  },
  {
   "cell_type": "markdown",
   "metadata": {},
   "source": [
    "There are two standard approaches to creating a set. We can use brace construction to build the set. Alternatively, a set function can convert a list to a set."
   ]
  },
  {
   "cell_type": "code",
   "execution_count": 368,
   "metadata": {},
   "outputs": [
    {
     "name": "stdout",
     "output_type": "stream",
     "text": [
      "{'Natalie', 'Steven', 'Suzie', 'Molly', 'Edgar'}\n"
     ]
    }
   ],
   "source": [
    "##Option #1: Brace Construction\n",
    "MollyStore = {'Suzie','Edgar','Steven','Natalie','Natalie','Suzie'}\n",
    "print(mollyStore)\n"
   ]
  },
  {
   "cell_type": "markdown",
   "metadata": {},
   "source": [
    "Note: Although Natalie shopped at Molly's store twice, her name only appears once. Python <b>automatically deletes</b> the repeating \"Natalie\" instances. Even if we create a set with Natalie's name written seven times, the set will only contain one \"Natalie\" element:\n"
   ]
  },
  {
   "cell_type": "code",
   "execution_count": 369,
   "metadata": {},
   "outputs": [
    {
     "name": "stdout",
     "output_type": "stream",
     "text": [
      "{'Natalie'}\n"
     ]
    }
   ],
   "source": [
    "NatalieTestSet={'Natalie','Natalie','Natalie','Natalie','Natalie','Natalie','Natalie'}\n",
    "print(NatalieTestSet) #Set only contains one instance of \"Natalie\" "
   ]
  },
  {
   "cell_type": "code",
   "execution_count": 370,
   "metadata": {
    "scrolled": true
   },
   "outputs": [
    {
     "name": "stdout",
     "output_type": "stream",
     "text": [
      "{'Joseph', 'Catherine', 'Steven', 'Suzie', 'Fred'}\n"
     ]
    }
   ],
   "source": [
    "##Option #2: Converting a list to a set\n",
    "BobStore = set(['Fred','Suzie','Steven','Joseph','Catherine','Steven','Steven'])\n",
    "print(BobStore)"
   ]
  },
  {
   "cell_type": "markdown",
   "metadata": {},
   "source": [
    "The set function converts a list to a set. Steven appears three times in the list. In the set, all duplicates are removed."
   ]
  },
  {
   "cell_type": "markdown",
   "metadata": {},
   "source": [
    "## Set Operations: In/Not In"
   ]
  },
  {
   "cell_type": "markdown",
   "metadata": {},
   "source": [
    "The In/Not In statement determines whether an element is a member of the set. We can use this operation to see if a customer has ever shopped at Molly's store.\n",
    "\n",
    "The below example checks if 'Catherine' is in the MollyStore set. The results are stored in a boolean variable <b>CatherineCustomer</b> with two possible outcomes:\n",
    "<ul>\n",
    "    <li><b>True:</b> If 'Catherine' exists in the MollyStore set\n",
    "    <li><b>False:</b> If 'Catherine' cannot be found in the set\n",
    "       "
   ]
  },
  {
   "cell_type": "code",
   "execution_count": 371,
   "metadata": {},
   "outputs": [
    {
     "name": "stdout",
     "output_type": "stream",
     "text": [
      "False\n"
     ]
    }
   ],
   "source": [
    "CatherineCustomer='Catherine' in MollyStore\n",
    "print(CatherineCustomer)"
   ]
  },
  {
   "cell_type": "markdown",
   "metadata": {},
   "source": [
    "The <b> Not In</B> operation checks the opposite situation. If Heather has not shopped at a store, the result is true. Our boolean variable <b>HeatherNotCustomer</b> can return one of two values:\n",
    "<ul>\n",
    "    <li><b>True:</b> If Heather did not shop at Bob's store\n",
    "    <li><b>False:</b> If Heather did shop at Bob's store\n",
    "       "
   ]
  },
  {
   "cell_type": "code",
   "execution_count": 376,
   "metadata": {},
   "outputs": [
    {
     "name": "stdout",
     "output_type": "stream",
     "text": [
      "True\n"
     ]
    }
   ],
   "source": [
    "HeatherNotCustomer='Heather' not in BobStore\n",
    "print(HeatherNotCustomer)\n"
   ]
  },
  {
   "cell_type": "markdown",
   "metadata": {},
   "source": [
    "## Set Operations: Intersection/Union"
   ]
  },
  {
   "cell_type": "markdown",
   "metadata": {},
   "source": [
    "The intersection operation compares two sets and reports which elements are in both. Molly can use this operation to find which customers shop at both store locations. There are two equivalent techniques:\n",
    "<ol><li>Calculate the intersection using the & sign: print(Set1&Set2)\n",
    "    <li>Use the intersection function: print(Set1.intersection(Set2))\n",
    "        \n",
    "        "
   ]
  },
  {
   "cell_type": "code",
   "execution_count": 377,
   "metadata": {},
   "outputs": [
    {
     "name": "stdout",
     "output_type": "stream",
     "text": [
      "{'Suzie', 'Steven'}\n"
     ]
    }
   ],
   "source": [
    "print(MollyStore&BobStore)"
   ]
  },
  {
   "cell_type": "code",
   "execution_count": 378,
   "metadata": {},
   "outputs": [
    {
     "name": "stdout",
     "output_type": "stream",
     "text": [
      "{'Suzie', 'Steven'}\n"
     ]
    }
   ],
   "source": [
    "print(MollyStore.intersection(BobStore))"
   ]
  },
  {
   "cell_type": "markdown",
   "metadata": {},
   "source": [
    "Suzie and Steven are the only customers who appear in both store locations.\n",
    "\n",
    "| MollyStore |    | BobStore |  \n",
    "|------|          |------|          \n",
    "|  <font color=\"orange\"> Suzie </font> ||   Fred  |\n",
    "|   Edgar  || <font color=\"orange\">   Suzie  |\n",
    "|    <font color=\"orange\"> Steven </font> || <font color=\"orange\">    Steven </font> |\n",
    "|   Natalie  ||   Joseph  |\n",
    "|   Natalie  ||   Catherine  |\n",
    "|    <font color=\"orange\"> Suzie </font> || <font color=\"orange\">    Steven </font> |\n",
    "|            | | <font color=\"orange\">    Steven </font> |\n"
   ]
  },
  {
   "cell_type": "markdown",
   "metadata": {},
   "source": [
    "Molly also requested a list of all customers from either location. We can use the union operation to combine all the names from Molly's store with Bob's store:\n",
    "<ol><li>Calculate the union using the | sign (the pipeline character is to the right of the } key): print(Set1|Set2)\n",
    "    <li>Use the union function: print(Set1.union(Set2))\n",
    "        "
   ]
  },
  {
   "cell_type": "code",
   "execution_count": 379,
   "metadata": {},
   "outputs": [
    {
     "name": "stdout",
     "output_type": "stream",
     "text": [
      "{'Joseph', 'Catherine', 'Natalie', 'Steven', 'Suzie', 'Fred', 'Edgar'}\n"
     ]
    }
   ],
   "source": [
    "print(MollyStore|BobStore) #pipe operator"
   ]
  },
  {
   "cell_type": "code",
   "execution_count": 382,
   "metadata": {},
   "outputs": [
    {
     "name": "stdout",
     "output_type": "stream",
     "text": [
      "{'Joseph', 'Catherine', 'Natalie', 'Steven', 'Suzie', 'Fred', 'Edgar'}\n"
     ]
    }
   ],
   "source": [
    "print(MollyStore.union(BobStore))"
   ]
  },
  {
   "cell_type": "markdown",
   "metadata": {},
   "source": [
    "## For Set\n"
   ]
  },
  {
   "cell_type": "markdown",
   "metadata": {},
   "source": [
    "Finally, we can use the For Set command to loop through the entire set and print out each customer's name:"
   ]
  },
  {
   "cell_type": "code",
   "execution_count": 383,
   "metadata": {},
   "outputs": [
    {
     "name": "stdout",
     "output_type": "stream",
     "text": [
      "Joseph\n",
      "Catherine\n",
      "Natalie\n",
      "Steven\n",
      "Suzie\n",
      "Fred\n",
      "Edgar\n"
     ]
    }
   ],
   "source": [
    "for item in (MollyStore|BobStore):\n",
    "    print(item)\n",
    "    "
   ]
  },
  {
   "cell_type": "markdown",
   "metadata": {},
   "source": [
    "## Summary \n",
    "\n"
   ]
  },
  {
   "cell_type": "markdown",
   "metadata": {},
   "source": [
    "In this lesson, we learned how to use sets to remove duplicates from a list of customers. Sets can help with the machine learning and data cleaning process by:\n",
    "<ul>\n",
    "    <li>Removing duplicate elements from a customer list\n",
    "    <li>Using the In statement to check if a customer is in the set\n",
    "    <li>Comparing two sets using the intersection and union operations\n",
    "    <li>Printing each element using For Set\n",
    "</ul>        \n",
    "Sets are a great addition to lists and dictionaries because now we can manage larger, repeating customer datasets. Set operations can quickly compare elements of one set to another. The techniques we applied to Molly's customer dataset will be used later on in our machine learning and SQL curriculum.         \n",
    "    "
   ]
  }
 ],
 "metadata": {
  "kernelspec": {
   "display_name": "Python 3",
   "language": "python",
   "name": "python3"
  },
  "language_info": {
   "codemirror_mode": {
    "name": "ipython",
    "version": 3
   },
   "file_extension": ".py",
   "mimetype": "text/x-python",
   "name": "python",
   "nbconvert_exporter": "python",
   "pygments_lexer": "ipython3",
   "version": "3.6.4"
  }
 },
 "nbformat": 4,
 "nbformat_minor": 2
}
